{
 "cells": [
  {
   "cell_type": "code",
   "execution_count": 1,
   "metadata": {},
   "outputs": [],
   "source": [
    "import pandas as pd\n",
    "import os\n",
    "os.chdir('/Users/ronaldliu/Downloads/jiang_2023/Scripts_2')\n",
    "\n",
    "import numpy as np\n",
    "import pandas as pd\n",
    "from Data import equity_data as eqd   # make sure Scripts_2 is on PYTHONPATH\n",
    "from __future__ import print_function, division\n",
    "import os\n",
    "import os.path as op\n",
    "import numpy as np\n",
    "import pandas as pd\n",
    "import time\n",
    "from Data import dgp_config as dcf\n",
    "from tqdm import tqdm"
   ]
  },
  {
   "cell_type": "code",
   "execution_count": 34,
   "metadata": {},
   "outputs": [
    {
     "name": "stdout",
     "output_type": "stream",
     "text": [
      "          date       Ret\n",
      "0   2010-01-08 -0.029748\n",
      "1   2010-01-15 -0.044501\n",
      "2   2010-01-22 -0.016647\n",
      "3   2010-01-29  0.026817\n",
      "4   2010-02-05  0.011255\n",
      "..         ...       ...\n",
      "783 2025-04-30  0.007626\n",
      "784 2025-05-09 -0.005740\n",
      "785 2025-05-16 -0.000237\n",
      "786 2025-05-23       NaN\n",
      "787 2025-05-30       NaN\n",
      "\n",
      "[788 rows x 2 columns]\n"
     ]
    }
   ],
   "source": [
    "\n",
    "import pandas as pd\n",
    "import numpy as np\n",
    "\n",
    "file_path = os.path.join(dcf.CACHE_DIR, f\"SSE.csv\")\n",
    "# ── 1.  Load & clean  ──────────────────────────────────────────────────────────\n",
    "df = (\n",
    "    pd.read_csv(file_path,  # or io.StringIO(your-string)\n",
    "                parse_dates=[\"date\"])\n",
    "      .sort_values(\"date\")                      # ascending chronology\n",
    ")\n",
    "\n",
    "# %-strings → decimal returns (e.g. \"1.15%\" → 0.0115)\n",
    "df[\"ret\"] = df[\"Ret\"].str.rstrip(\"%\").astype(float) / 100\n",
    "\n",
    "# ── 2.  Daily log-return & cumulative-log-return  ──────────────────────────────\n",
    "df[\"log_ret\"]  = np.log1p(df[\"ret\"])\n",
    "df[\"cum_log_ret\"] = df[\"log_ret\"].cumsum()\n",
    "\n",
    "# ── 4.  Period returns & “next-period” returns  ───────────────────────────────\n",
    "freq = \"week\"\n",
    "freq_col       = f\"{freq}_ret\"          # e.g. week_ret\n",
    "\n",
    "period_ends = eqd.get_period_end_dates(\"week\", \"CN\")\n",
    "period_df   = df[df[\"date\"].isin(period_ends)].copy()\n",
    "\n",
    "# return for the period that ENDS at this row\n",
    "period_df[freq_col] = (\n",
    "    np.exp(period_df[\"cum_log_ret\"] - period_df[\"cum_log_ret\"].shift(1)) - 1\n",
    ")\n",
    "\n",
    "# --- keep only the two wanted columns ---\n",
    "period_df = period_df[['date', 'week_ret']].copy()\n",
    "period_df.columns = [\"date\", \"Ret\"]\n",
    "# --- optional: make the left-hand index clean 0,1,2,… ---\n",
    "period_df.reset_index(drop=True, inplace=True)\n",
    "\n",
    "# Shift returns to align with the start of the period\n",
    "period_df[\"Ret\"] = period_df[\"Ret\"].shift(-2)\n",
    "\n",
    "print(period_df)\n",
    "\n",
    "file_path = os.path.join(dcf.CACHE_DIR, f\"SSE_{freq}.csv\")\n",
    "period_df.to_csv(file_path, index=False)"
   ]
  },
  {
   "cell_type": "code",
   "execution_count": null,
   "metadata": {},
   "outputs": [
    {
     "data": {
      "text/plain": [
       "Date\n",
       "2010-01-08   -0.024826\n",
       "2010-01-15    0.008864\n",
       "2010-01-22   -0.029748\n",
       "2010-01-29   -0.044501\n",
       "2010-02-05   -0.016647\n",
       "                ...   \n",
       "2025-04-30   -0.004793\n",
       "2025-05-09    0.019178\n",
       "2025-05-16    0.007626\n",
       "2025-05-23   -0.005740\n",
       "2025-05-30   -0.000237\n",
       "Name: Ret, Length: 788, dtype: float64"
      ]
     },
     "execution_count": 8,
     "metadata": {},
     "output_type": "execute_result"
    }
   ],
   "source": [
    "eqd.get_benchmark_returns(\"week\", \"CN\")\n"
   ]
  },
  {
   "cell_type": "code",
   "execution_count": 9,
   "metadata": {},
   "outputs": [
    {
     "data": {
      "text/plain": [
       "Date\n",
       "1993-01-29    0.004923\n",
       "1993-02-05    0.019307\n",
       "1993-02-19   -0.020379\n",
       "1993-02-26    0.010757\n",
       "1993-03-05    0.016202\n",
       "                ...   \n",
       "2019-12-06    0.003427\n",
       "2019-12-13    0.010645\n",
       "2019-12-20    0.015208\n",
       "2019-12-27    0.007579\n",
       "2019-12-31    0.003259\n",
       "Name: ewretx, Length: 1278, dtype: float64"
      ]
     },
     "execution_count": 9,
     "metadata": {},
     "output_type": "execute_result"
    }
   ],
   "source": [
    "eqd.get_benchmark_returns(\"week\", \"US\")"
   ]
  },
  {
   "cell_type": "code",
   "execution_count": null,
   "metadata": {},
   "outputs": [],
   "source": []
  }
 ],
 "metadata": {
  "kernelspec": {
   "display_name": "Python 3",
   "language": "python",
   "name": "python3"
  },
  "language_info": {
   "codemirror_mode": {
    "name": "ipython",
    "version": 3
   },
   "file_extension": ".py",
   "mimetype": "text/x-python",
   "name": "python",
   "nbconvert_exporter": "python",
   "pygments_lexer": "ipython3",
   "version": "3.8.13"
  }
 },
 "nbformat": 4,
 "nbformat_minor": 2
}
