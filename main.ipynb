{
 "cells": [
  {
   "cell_type": "code",
   "execution_count": 1,
   "metadata": {},
   "outputs": [
    {
     "name": "stdout",
     "output_type": "stream",
     "text": [
      "PyTorch version: 2.6.0\n",
      "Number of threads PyTorch is using: 4\n",
      "Number of CPU cores available: 10\n",
      "Number of GPUs available: 0\n",
      "CUDA is not available.\n"
     ]
    }
   ],
   "source": [
    "import torch\n",
    "import pandas as pd\n",
    "import numpy as np\n",
    "\n",
    "print(\"PyTorch version:\", torch.__version__)\n",
    "\n",
    "# Get the number of threads PyTorch is allowed to use\n",
    "num_threads = torch.get_num_threads()\n",
    "print(\"Number of threads PyTorch is using:\", num_threads)\n",
    "# Get the number of CPU cores available\n",
    "num_cores = torch.get_num_interop_threads()\n",
    "print(\"Number of CPU cores available:\", num_cores)\n",
    "\n",
    "# Check the number of GPUs available\n",
    "num_gpus = torch.cuda.device_count()\n",
    "print(\"Number of GPUs available:\", num_gpus)\n",
    "for i in range(torch.cuda.device_count()):\n",
    "    print(f\"GPU {i}: {torch.cuda.get_device_name(i)}\")\n",
    "\n",
    "# Check if CUDA is available\n",
    "if torch.cuda.is_available():\n",
    "    print(\"CUDA is available.\")\n",
    "    print(\"CUDA version used by PyTorch:\", torch.version.cuda)\n",
    "else:\n",
    "    print(\"CUDA is not available.\")"
   ]
  },
  {
   "cell_type": "code",
   "execution_count": 2,
   "metadata": {},
   "outputs": [],
   "source": [
    "import os\n",
    "os.chdir('/Users/ronaldliu/Downloads/jiang_2023/Scripts_2')\n",
    "os.getcwd()\n",
    "os.listdir()\n",
    "import os\n",
    "from Portfolio import portfolio as pf\n",
    "import pandas as pd\n",
    "from Data import equity_data as eqd"
   ]
  },
  {
   "cell_type": "code",
   "execution_count": 2,
   "metadata": {},
   "outputs": [
    {
     "name": "stdout",
     "output_type": "stream",
     "text": [
      "\n",
      "[DEBUG] Starting make_portfolio_plot\n",
      "[DEBUG] cut = 10, weight_type = ew\n",
      "[DEBUG] portfolio_ret shape = (236, 11)\n",
      "[DEBUG] Using return type column: ewretx\n",
      "[DEBUG] Renamed df columns: ['Low(L)', '2', '3', '4', '5', '6', '7', '8', '9', 'High(H)', 'H-L']\n",
      "[DEBUG] Added SPY column. df shape: (236, 12)\n",
      "[DEBUG] After dropna, df shape: (236, 12)\n",
      "[DEBUG] Cumulative log return columns: ['Low(L)', '2', '3', '4', '5', '6', '7', '8', '9', 'High(H)', 'H-L', 'SPY']\n",
      "[DEBUG] Finished plotting all lines.\n",
      "[DEBUG] Plot saved to ../WORK_SPACE/new_model_res/portfolio/USA_D20L3F53S31D21MP21F53S11D11MP21F53S11D11MP21C64_20d5p-lr1E-04-dp0-2.50-maTrue-vbTrue-weeklyTrained-noDelayedReturn_ensem5_2015-2019_noDelayedReturn/portfolio_plot_ew.png\n",
      "\n",
      "Portfolio plot saved to ../WORK_SPACE/new_model_res/portfolio/USA_D20L3F53S31D21MP21F53S11D11MP21F53S11D11MP21C64_20d5p-lr1E-04-dp0-2.50-maTrue-vbTrue-weeklyTrained-noDelayedReturn_ensem5_2015-2019_noDelayedReturn/portfolio_plot_ew.png\n"
     ]
    }
   ],
   "source": [
    "import os\n",
    "os.chdir('/Users/ronaldliu/Downloads/jiang_2023/Scripts_2')\n",
    "os.getcwd()\n",
    "os.listdir()\n",
    "import os\n",
    "from Portfolio import portfolio as pf\n",
    "import pandas as pd\n",
    "from Data import equity_data as eqd\n",
    "\n",
    "\n",
    "# === Set your configuration ===\n",
    "portfolio_dir = \"../WORK_SPACE/new_model_res/portfolio/USA_D20L3F53S31D21MP21F53S11D11MP21F53S11D11MP21C64_20d5p-lr1E-04-dp0-2.50-maTrue-vbTrue-weeklyTrained-noDelayedReturn_ensem5_2015-2019_noDelayedReturn\"  # <--- Update this\n",
    "\n",
    "freq = \"week\"  # Options: \"week\", \"month\", \"quarter\"\n",
    "cut = 10\n",
    "weight_type = \"ew\"  # or \"vw\"\n",
    "delay = 0  # if applicable\n",
    "\n",
    "# === Optional: set plot title and output path ===\n",
    "plot_title = f\"{freq.capitalize()} Portfolio ({weight_type.upper()} Weighting)\"\n",
    "save_path = os.path.join(portfolio_dir, f\"portfolio_plot_{weight_type}.png\")\n",
    "\n",
    "# === Construct PortfolioManager with no signal_df ===\n",
    "# Only needed for plotting, so skip loading signals\n",
    "pf_obj = pf.PortfolioManager(\n",
    "    signal_df=None,\n",
    "    freq=freq,\n",
    "    portfolio_dir=portfolio_dir,\n",
    "    load_signal=False,\n",
    ")\n",
    "\n",
    "# === Load portfolio returns ===\n",
    "portfolio_ret = pf_obj.load_portfolio_ret(weight_type=weight_type, cut=cut, delay=delay)\n",
    "\n",
    "# === Generate and save the plot ===\n",
    "pf_obj.make_portfolio_plot(\n",
    "    portfolio_ret=portfolio_ret,\n",
    "    cut=cut,\n",
    "    weight_type=weight_type,\n",
    "    save_path=save_path,\n",
    "    plot_title=plot_title,\n",
    ")\n",
    "\n",
    "print(f\"Portfolio plot saved to {save_path}\")\n"
   ]
  },
  {
   "cell_type": "code",
   "execution_count": 9,
   "metadata": {},
   "outputs": [
    {
     "name": "stdout",
     "output_type": "stream",
     "text": [
      "Loading processed data from ../WORK_SPACE/data/processed_data/us_ret.feather\n",
      "Finish loading processed data in 0.29 min\n"
     ]
    },
    {
     "ename": "AttributeError",
     "evalue": "module 'Misc.parallel_util' has no attribute 'process_year'",
     "output_type": "error",
     "traceback": [
      "\u001b[0;31m---------------------------------------------------------------------------\u001b[0m",
      "\u001b[0;31mAttributeError\u001b[0m                            Traceback (most recent call last)",
      "Cell \u001b[0;32mIn[9], line 19\u001b[0m\n\u001b[1;32m     16\u001b[0m \u001b[38;5;66;03m# Run in parallel using threads (shared memory)\u001b[39;00m\n\u001b[1;32m     17\u001b[0m \u001b[38;5;28;01mwith\u001b[39;00m ThreadPoolExecutor(max_workers\u001b[38;5;241m=\u001b[39m\u001b[38;5;241m1\u001b[39m) \u001b[38;5;28;01mas\u001b[39;00m executor:\n\u001b[1;32m     18\u001b[0m     futures \u001b[38;5;241m=\u001b[39m [\n\u001b[0;32m---> 19\u001b[0m         executor\u001b[38;5;241m.\u001b[39msubmit(\u001b[43mpu\u001b[49m\u001b[38;5;241;43m.\u001b[39;49m\u001b[43mprocess_year\u001b[49m, year, chart_type, ws, freq, ma_lags, vb, us_ret)\n\u001b[1;32m     20\u001b[0m         \u001b[38;5;28;01mfor\u001b[39;00m year \u001b[38;5;129;01min\u001b[39;00m year_list\n\u001b[1;32m     21\u001b[0m     ]\n\u001b[1;32m     23\u001b[0m     \u001b[38;5;28;01mfor\u001b[39;00m future \u001b[38;5;129;01min\u001b[39;00m as_completed(futures):\n\u001b[1;32m     24\u001b[0m         \u001b[38;5;28;01mtry\u001b[39;00m:\n",
      "\u001b[0;31mAttributeError\u001b[0m: module 'Misc.parallel_util' has no attribute 'process_year'"
     ]
    }
   ],
   "source": [
    "from concurrent.futures import ThreadPoolExecutor, as_completed\n",
    "from Misc import parallel_util as pu\n",
    "from Data import equity_data as eqd\n",
    "\n",
    "# Configuration\n",
    "year_list = list(range(1997, 2020))\n",
    "chart_type = \"bar\"\n",
    "ws = 20\n",
    "freq = \"week\"\n",
    "ma_lags = [ws]\n",
    "vb = True\n",
    "\n",
    "# Load shared data once\n",
    "us_ret = eqd.processed_US_data()\n",
    "\n",
    "# Run in parallel using threads (shared memory)\n",
    "with ThreadPoolExecutor(max_workers=1) as executor:\n",
    "    futures = [\n",
    "        executor.submit(pu.process_year, year, chart_type, ws, freq, ma_lags, vb, us_ret)\n",
    "        for year in year_list\n",
    "    ]\n",
    "\n",
    "    for future in as_completed(futures):\n",
    "        try:\n",
    "            future.result()\n",
    "        except Exception as e:\n",
    "            print(f\"Error: {e}\")"
   ]
  },
  {
   "cell_type": "code",
   "execution_count": 3,
   "metadata": {},
   "outputs": [
    {
     "ename": "ModuleNotFoundError",
     "evalue": "No module named 'Experiments'",
     "output_type": "error",
     "traceback": [
      "\u001b[0;31m---------------------------------------------------------------------------\u001b[0m",
      "\u001b[0;31mModuleNotFoundError\u001b[0m                       Traceback (most recent call last)",
      "Cell \u001b[0;32mIn[3], line 1\u001b[0m\n\u001b[0;32m----> 1\u001b[0m \u001b[38;5;28;01mfrom\u001b[39;00m\u001b[38;5;250m \u001b[39m\u001b[38;5;21;01mExperiments\u001b[39;00m\u001b[38;5;21;01m.\u001b[39;00m\u001b[38;5;21;01mcnn_experiment\u001b[39;00m\u001b[38;5;250m \u001b[39m\u001b[38;5;28;01mimport\u001b[39;00m train_us_model\n\u001b[1;32m      2\u001b[0m \u001b[38;5;28;01mfrom\u001b[39;00m\u001b[38;5;250m \u001b[39m\u001b[38;5;21;01mData\u001b[39;00m\u001b[38;5;21;01m.\u001b[39;00m\u001b[38;5;21;01mgenerate_chart\u001b[39;00m\u001b[38;5;250m \u001b[39m\u001b[38;5;28;01mimport\u001b[39;00m GenerateStockData\n\u001b[1;32m      3\u001b[0m \u001b[38;5;28;01mimport\u001b[39;00m\u001b[38;5;250m \u001b[39m\u001b[38;5;21;01mtorch\u001b[39;00m \u001b[38;5;66;03m#\u001b[39;00m\n",
      "\u001b[0;31mModuleNotFoundError\u001b[0m: No module named 'Experiments'"
     ]
    }
   ],
   "source": [
    "from Experiments.cnn_experiment import train_us_model\n",
    "from Data.generate_chart import GenerateStockData\n",
    "import torch #\n",
    "from Misc import config as cf\n",
    "\n",
    "\n",
    "os.environ[\"CUDA_VISIBLE_DEVICES\"] = \"0\"\n",
    "device = torch.device(\"cuda\" if torch.cuda.is_available() else \"cpu\")\n",
    "torch.set_num_threads(6)\n",
    "\n",
    "print(\"OOS years\", cf.OOS_YEARS)\n",
    "\n",
    "train_us_model(\n",
    "    [5],\n",
    "    [5],\n",
    "    total_worker=1,\n",
    "    calculate_portfolio=True,\n",
    "    ts1d_model=False,\n",
    "    ts_scale=\"image_scale\",\n",
    "    regression_label=None,\n",
    "    pf_delay_list=[0],\n",
    "    lr=1e-4,\n",
    ")"
   ]
  },
  {
   "cell_type": "code",
   "execution_count": 2,
   "metadata": {},
   "outputs": [
    {
     "name": "stdout",
     "output_type": "stream",
     "text": [
      "zsh:1: command not found: lscpu\n"
     ]
    }
   ],
   "source": [
    "!lscpu"
   ]
  }
 ],
 "metadata": {
  "kernelspec": {
   "display_name": "Python 3",
   "language": "python",
   "name": "python3"
  },
  "language_info": {
   "codemirror_mode": {
    "name": "ipython",
    "version": 3
   },
   "file_extension": ".py",
   "mimetype": "text/x-python",
   "name": "python",
   "nbconvert_exporter": "python",
   "pygments_lexer": "ipython3",
   "version": "3.13.1"
  }
 },
 "nbformat": 4,
 "nbformat_minor": 2
}
