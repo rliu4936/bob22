{
 "cells": [
  {
   "cell_type": "code",
   "execution_count": 4,
   "metadata": {},
   "outputs": [
    {
     "name": "stdout",
     "output_type": "stream",
     "text": [
      "             Date StockID     MarketCap   log_ret        Ret_5d   Ret_20d  \\\n",
      "0      1992-03-31   10001  1.263125e+04 -0.021053  7.362590e-07 -0.021277   \n",
      "1      1992-06-30   10001  1.263125e+04 -0.031416  4.255318e-02  0.063831   \n",
      "2      1992-09-30   10001  1.612500e+04  0.025318  3.712644e-07  0.000002   \n",
      "3      1992-12-31   10001  1.512000e+04 -0.017700  3.571454e-02  0.000001   \n",
      "4      1993-03-31   10001  1.531875e+04  0.008811 -8.771614e-03  0.105263   \n",
      "...           ...     ...           ...       ...           ...       ...   \n",
      "866195 2019-09-30   93436  4.335660e+07 -0.005218 -1.307759e-02  0.360527   \n",
      "866196 2019-12-31   93436  7.574366e+07  0.008715  1.764403e-01  0.531828   \n",
      "866197 2020-03-31   93436  9.694000e+07  0.042632  4.093503e-02  0.527692   \n",
      "866198 2020-06-30   93436  2.008447e+08  0.067478  2.649259e-01  0.388308   \n",
      "866199 2020-07-31   93436  2.666393e+08 -0.038884  9.711229e-03  0.183757   \n",
      "\n",
      "         Ret_60d  Ret_6-20d  Ret_6-60d  quarter_ret  next_quarter_ret  \\\n",
      "0       0.045462  -0.021277   0.045462    -0.179084          0.013128   \n",
      "1       0.270102   0.020409   0.218261     0.013128          0.291629   \n",
      "2      -0.056612   0.000001  -0.056613     0.291629         -0.056613   \n",
      "3      -0.006605  -0.034482  -0.040860    -0.056613          0.029519   \n",
      "4       0.117841   0.115044   0.127733     0.029519          0.171071   \n",
      "...          ...        ...        ...          ...               ...   \n",
      "866195  0.765477   0.378556   0.788871     0.077912          0.736748   \n",
      "866196  0.229557   0.302087   0.045151     0.736748          0.252601   \n",
      "866197  0.881644   0.467615   0.807648     0.252601          1.060709   \n",
      "866198  0.828261   0.097541   0.808891     1.060709          0.325010   \n",
      "866199       NaN  -0.073732        NaN     0.325010               NaN   \n",
      "\n",
      "        next_quarter_ret_0delay  \n",
      "0                      0.013128  \n",
      "1                      0.291629  \n",
      "2                     -0.056613  \n",
      "3                      0.029519  \n",
      "4                      0.171071  \n",
      "...                         ...  \n",
      "866195                 0.736748  \n",
      "866196                 0.252601  \n",
      "866197                 1.060709  \n",
      "866198                 0.325010  \n",
      "866199                      NaN  \n",
      "\n",
      "[866200 rows x 12 columns]\n"
     ]
    }
   ],
   "source": [
    "import pandas as pd\n",
    "\n",
    "# Read the Parquet file\n",
    "df = pd.read_parquet(\"CACHE_DIR/us_quarter_ret.pq\")\n",
    "\n",
    "# Display the first few rows\n",
    "print(df)"
   ]
  },
  {
   "cell_type": "code",
   "execution_count": 1,
   "metadata": {},
   "outputs": [],
   "source": [
    "import os\n",
    "os.chdir('/Users/ronaldliu/Downloads/jiang_2023/Scripts_2')\n",
    "os.getcwd()\n",
    "os.listdir()\n",
    "import os\n",
    "from Portfolio import portfolio as pf\n",
    "import pandas as pd\n",
    "from Data import equity_data as eqd"
   ]
  },
  {
   "cell_type": "code",
   "execution_count": 7,
   "metadata": {},
   "outputs": [
    {
     "name": "stdout",
     "output_type": "stream",
     "text": [
      "20D week bar 1994\n",
      "Generating 20d_week_has_vb_[20]_ma_1994\n",
      "Loading processed data from ../WORK_SPACE/data/processed_data/us_ret.feather\n",
      "Finish loading processed data in 0.23 min\n",
      "['10001' '10002' '10003' ... '93236' '93252' '93316']\n"
     ]
    },
    {
     "name": "stderr",
     "output_type": "stream",
     "text": [
      "  1%|          | 50/9730 [00:08<27:38,  5.84it/s]\n"
     ]
    },
    {
     "ename": "KeyboardInterrupt",
     "evalue": "",
     "output_type": "error",
     "traceback": [
      "\u001b[0;31m---------------------------------------------------------------------------\u001b[0m",
      "\u001b[0;31mKeyboardInterrupt\u001b[0m                         Traceback (most recent call last)",
      "Cell \u001b[0;32mIn[7], line 24\u001b[0m\n\u001b[1;32m     11\u001b[0m dgp_obj \u001b[38;5;241m=\u001b[39m gc\u001b[38;5;241m.\u001b[39mGenerateStockData(\n\u001b[1;32m     12\u001b[0m     \u001b[38;5;124m\"\u001b[39m\u001b[38;5;124mUSA\u001b[39m\u001b[38;5;124m\"\u001b[39m,\n\u001b[1;32m     13\u001b[0m     year,\n\u001b[0;32m   (...)\u001b[0m\n\u001b[1;32m     21\u001b[0m     chart_type\u001b[38;5;241m=\u001b[39mchart_type,\n\u001b[1;32m     22\u001b[0m )\n\u001b[1;32m     23\u001b[0m \u001b[38;5;66;03m# generate CNN2D Data\u001b[39;00m\n\u001b[0;32m---> 24\u001b[0m \u001b[43mdgp_obj\u001b[49m\u001b[38;5;241;43m.\u001b[39;49m\u001b[43msave_annual_data\u001b[49m\u001b[43m(\u001b[49m\u001b[43m)\u001b[49m\n\u001b[1;32m     25\u001b[0m \u001b[38;5;66;03m# generate CNN1D Data\u001b[39;00m\n\u001b[1;32m     26\u001b[0m dgp_obj\u001b[38;5;241m.\u001b[39msave_annual_ts_data()\n",
      "File \u001b[0;32m~/Downloads/jiang_2023/Scripts_2/Data/generate_chart.py:301\u001b[0m, in \u001b[0;36mGenerateStockData.save_annual_data\u001b[0;34m(self)\u001b[0m\n\u001b[1;32m    299\u001b[0m \u001b[38;5;28;01mfor\u001b[39;00m j, date \u001b[38;5;129;01min\u001b[39;00m \u001b[38;5;28menumerate\u001b[39m(dates):\n\u001b[1;32m    300\u001b[0m     \u001b[38;5;28;01mtry\u001b[39;00m:\n\u001b[0;32m--> 301\u001b[0m         image_label_data \u001b[38;5;241m=\u001b[39m \u001b[38;5;28;43mself\u001b[39;49m\u001b[38;5;241;43m.\u001b[39;49m\u001b[43m_generate_daily_features\u001b[49m\u001b[43m(\u001b[49m\u001b[43mstock_df\u001b[49m\u001b[43m,\u001b[49m\u001b[43m \u001b[49m\u001b[43mdate\u001b[49m\u001b[43m)\u001b[49m\n\u001b[1;32m    303\u001b[0m         \u001b[38;5;28;01mif\u001b[39;00m \u001b[38;5;28mtype\u001b[39m(image_label_data) \u001b[38;5;129;01mis\u001b[39;00m \u001b[38;5;28mdict\u001b[39m:\n\u001b[1;32m    304\u001b[0m             \u001b[38;5;28;01mif\u001b[39;00m (i \u001b[38;5;241m<\u001b[39m \u001b[38;5;241m2\u001b[39m) \u001b[38;5;129;01mand\u001b[39;00m (j \u001b[38;5;241m==\u001b[39m \u001b[38;5;241m0\u001b[39m):\n",
      "File \u001b[0;32m~/Downloads/jiang_2023/Scripts_2/Data/generate_chart.py:187\u001b[0m, in \u001b[0;36mGenerateStockData._generate_daily_features\u001b[0;34m(self, stock_df, date)\u001b[0m\n\u001b[1;32m    186\u001b[0m \u001b[38;5;28;01mdef\u001b[39;00m\u001b[38;5;250m \u001b[39m\u001b[38;5;21m_generate_daily_features\u001b[39m(\u001b[38;5;28mself\u001b[39m, stock_df, date):\n\u001b[0;32m--> 187\u001b[0m     res \u001b[38;5;241m=\u001b[39m \u001b[38;5;28;43mself\u001b[39;49m\u001b[38;5;241;43m.\u001b[39;49m\u001b[43mload_adjusted_daily_prices\u001b[49m\u001b[43m(\u001b[49m\u001b[43mstock_df\u001b[49m\u001b[43m,\u001b[49m\u001b[43m \u001b[49m\u001b[43mdate\u001b[49m\u001b[43m)\u001b[49m\n\u001b[1;32m    188\u001b[0m     \u001b[38;5;28;01mif\u001b[39;00m \u001b[38;5;28misinstance\u001b[39m(res, \u001b[38;5;28mint\u001b[39m):\n\u001b[1;32m    189\u001b[0m         \u001b[38;5;28;01mreturn\u001b[39;00m res\n",
      "File \u001b[0;32m~/Downloads/jiang_2023/Scripts_2/Data/generate_chart.py:139\u001b[0m, in \u001b[0;36mGenerateStockData.load_adjusted_daily_prices\u001b[0;34m(self, stock_df, date)\u001b[0m\n\u001b[1;32m    137\u001b[0m     \u001b[38;5;28;01mif\u001b[39;00m data[\u001b[38;5;124m\"\u001b[39m\u001b[38;5;124mClose\u001b[39m\u001b[38;5;124m\"\u001b[39m]\u001b[38;5;241m.\u001b[39miloc[\u001b[38;5;241m0\u001b[39m] \u001b[38;5;241m==\u001b[39m \u001b[38;5;241m0.0\u001b[39m \u001b[38;5;129;01mor\u001b[39;00m pd\u001b[38;5;241m.\u001b[39misna(data[\u001b[38;5;124m\"\u001b[39m\u001b[38;5;124mClose\u001b[39m\u001b[38;5;124m\"\u001b[39m]\u001b[38;5;241m.\u001b[39miloc[\u001b[38;5;241m0\u001b[39m]):\n\u001b[1;32m    138\u001b[0m         \u001b[38;5;28;01mreturn\u001b[39;00m \u001b[38;5;241m2\u001b[39m\n\u001b[0;32m--> 139\u001b[0m     data \u001b[38;5;241m=\u001b[39m \u001b[38;5;28;43mself\u001b[39;49m\u001b[38;5;241;43m.\u001b[39;49m\u001b[43madjust_price\u001b[49m\u001b[43m(\u001b[49m\u001b[43mdata\u001b[49m\u001b[43m)\u001b[49m\n\u001b[1;32m    140\u001b[0m \u001b[38;5;28;01melse\u001b[39;00m:\n\u001b[1;32m    141\u001b[0m     data \u001b[38;5;241m=\u001b[39m data\u001b[38;5;241m.\u001b[39mcopy()\n",
      "File \u001b[0;32m~/Downloads/jiang_2023/Scripts_2/Data/generate_chart.py:84\u001b[0m, in \u001b[0;36mGenerateStockData.adjust_price\u001b[0;34m(df)\u001b[0m\n\u001b[1;32m     82\u001b[0m \u001b[38;5;28;01mif\u001b[39;00m \u001b[38;5;28mlen\u001b[39m(df) \u001b[38;5;241m==\u001b[39m \u001b[38;5;241m0\u001b[39m:\n\u001b[1;32m     83\u001b[0m     \u001b[38;5;28;01mraise\u001b[39;00m ChartGenerationError(\u001b[38;5;124m\"\u001b[39m\u001b[38;5;124madjust_price: Empty Dataframe\u001b[39m\u001b[38;5;124m\"\u001b[39m)\n\u001b[0;32m---> 84\u001b[0m \u001b[38;5;28;01mif\u001b[39;00m \u001b[38;5;28mlen\u001b[39m(\u001b[43mdf\u001b[49m\u001b[38;5;241;43m.\u001b[39;49m\u001b[43mDate\u001b[49m\u001b[38;5;241m.\u001b[39munique()) \u001b[38;5;241m!=\u001b[39m \u001b[38;5;28mlen\u001b[39m(df):\n\u001b[1;32m     85\u001b[0m     \u001b[38;5;28;01mraise\u001b[39;00m ChartGenerationError(\u001b[38;5;124m\"\u001b[39m\u001b[38;5;124madjust_price: Dates not unique\u001b[39m\u001b[38;5;124m\"\u001b[39m)\n\u001b[1;32m     86\u001b[0m df \u001b[38;5;241m=\u001b[39m df\u001b[38;5;241m.\u001b[39mreset_index(drop\u001b[38;5;241m=\u001b[39m\u001b[38;5;28;01mTrue\u001b[39;00m)\n",
      "File \u001b[0;32m/Library/Frameworks/Python.framework/Versions/3.13/lib/python3.13/site-packages/pandas/core/generic.py:6298\u001b[0m, in \u001b[0;36mNDFrame.__getattr__\u001b[0;34m(self, name)\u001b[0m\n\u001b[1;32m   6290\u001b[0m \u001b[38;5;66;03m# Note: obj.x will always call obj.__getattribute__('x') prior to\u001b[39;00m\n\u001b[1;32m   6291\u001b[0m \u001b[38;5;66;03m# calling obj.__getattr__('x').\u001b[39;00m\n\u001b[1;32m   6292\u001b[0m \u001b[38;5;28;01mif\u001b[39;00m (\n\u001b[1;32m   6293\u001b[0m     name \u001b[38;5;129;01mnot\u001b[39;00m \u001b[38;5;129;01min\u001b[39;00m \u001b[38;5;28mself\u001b[39m\u001b[38;5;241m.\u001b[39m_internal_names_set\n\u001b[1;32m   6294\u001b[0m     \u001b[38;5;129;01mand\u001b[39;00m name \u001b[38;5;129;01mnot\u001b[39;00m \u001b[38;5;129;01min\u001b[39;00m \u001b[38;5;28mself\u001b[39m\u001b[38;5;241m.\u001b[39m_metadata\n\u001b[1;32m   6295\u001b[0m     \u001b[38;5;129;01mand\u001b[39;00m name \u001b[38;5;129;01mnot\u001b[39;00m \u001b[38;5;129;01min\u001b[39;00m \u001b[38;5;28mself\u001b[39m\u001b[38;5;241m.\u001b[39m_accessors\n\u001b[1;32m   6296\u001b[0m     \u001b[38;5;129;01mand\u001b[39;00m \u001b[38;5;28mself\u001b[39m\u001b[38;5;241m.\u001b[39m_info_axis\u001b[38;5;241m.\u001b[39m_can_hold_identifiers_and_holds_name(name)\n\u001b[1;32m   6297\u001b[0m ):\n\u001b[0;32m-> 6298\u001b[0m     \u001b[38;5;28;01mreturn\u001b[39;00m \u001b[38;5;28;43mself\u001b[39;49m\u001b[43m[\u001b[49m\u001b[43mname\u001b[49m\u001b[43m]\u001b[49m\n\u001b[1;32m   6299\u001b[0m \u001b[38;5;28;01mreturn\u001b[39;00m \u001b[38;5;28mobject\u001b[39m\u001b[38;5;241m.\u001b[39m\u001b[38;5;21m__getattribute__\u001b[39m(\u001b[38;5;28mself\u001b[39m, name)\n",
      "File \u001b[0;32m/Library/Frameworks/Python.framework/Versions/3.13/lib/python3.13/site-packages/pandas/core/frame.py:4078\u001b[0m, in \u001b[0;36mDataFrame.__getitem__\u001b[0;34m(self, key)\u001b[0m\n\u001b[1;32m   4071\u001b[0m \u001b[38;5;66;03m# GH#45316 Return view if key is not duplicated\u001b[39;00m\n\u001b[1;32m   4072\u001b[0m \u001b[38;5;66;03m# Only use drop_duplicates with duplicates for performance\u001b[39;00m\n\u001b[1;32m   4073\u001b[0m \u001b[38;5;28;01mif\u001b[39;00m \u001b[38;5;129;01mnot\u001b[39;00m is_mi \u001b[38;5;129;01mand\u001b[39;00m (\n\u001b[1;32m   4074\u001b[0m     \u001b[38;5;28mself\u001b[39m\u001b[38;5;241m.\u001b[39mcolumns\u001b[38;5;241m.\u001b[39mis_unique\n\u001b[1;32m   4075\u001b[0m     \u001b[38;5;129;01mand\u001b[39;00m key \u001b[38;5;129;01min\u001b[39;00m \u001b[38;5;28mself\u001b[39m\u001b[38;5;241m.\u001b[39mcolumns\n\u001b[1;32m   4076\u001b[0m     \u001b[38;5;129;01mor\u001b[39;00m key \u001b[38;5;129;01min\u001b[39;00m \u001b[38;5;28mself\u001b[39m\u001b[38;5;241m.\u001b[39mcolumns\u001b[38;5;241m.\u001b[39mdrop_duplicates(keep\u001b[38;5;241m=\u001b[39m\u001b[38;5;28;01mFalse\u001b[39;00m)\n\u001b[1;32m   4077\u001b[0m ):\n\u001b[0;32m-> 4078\u001b[0m     \u001b[38;5;28;01mreturn\u001b[39;00m \u001b[38;5;28;43mself\u001b[39;49m\u001b[38;5;241;43m.\u001b[39;49m\u001b[43m_get_item_cache\u001b[49m\u001b[43m(\u001b[49m\u001b[43mkey\u001b[49m\u001b[43m)\u001b[49m\n\u001b[1;32m   4080\u001b[0m \u001b[38;5;28;01melif\u001b[39;00m is_mi \u001b[38;5;129;01mand\u001b[39;00m \u001b[38;5;28mself\u001b[39m\u001b[38;5;241m.\u001b[39mcolumns\u001b[38;5;241m.\u001b[39mis_unique \u001b[38;5;129;01mand\u001b[39;00m key \u001b[38;5;129;01min\u001b[39;00m \u001b[38;5;28mself\u001b[39m\u001b[38;5;241m.\u001b[39mcolumns:\n\u001b[1;32m   4081\u001b[0m     \u001b[38;5;28;01mreturn\u001b[39;00m \u001b[38;5;28mself\u001b[39m\u001b[38;5;241m.\u001b[39m_getitem_multilevel(key)\n",
      "File \u001b[0;32m/Library/Frameworks/Python.framework/Versions/3.13/lib/python3.13/site-packages/pandas/core/frame.py:4639\u001b[0m, in \u001b[0;36mDataFrame._get_item_cache\u001b[0;34m(self, item)\u001b[0m\n\u001b[1;32m   4634\u001b[0m \u001b[38;5;28;01mif\u001b[39;00m res \u001b[38;5;129;01mis\u001b[39;00m \u001b[38;5;28;01mNone\u001b[39;00m:\n\u001b[1;32m   4635\u001b[0m     \u001b[38;5;66;03m# All places that call _get_item_cache have unique columns,\u001b[39;00m\n\u001b[1;32m   4636\u001b[0m     \u001b[38;5;66;03m#  pending resolution of GH#33047\u001b[39;00m\n\u001b[1;32m   4638\u001b[0m     loc \u001b[38;5;241m=\u001b[39m \u001b[38;5;28mself\u001b[39m\u001b[38;5;241m.\u001b[39mcolumns\u001b[38;5;241m.\u001b[39mget_loc(item)\n\u001b[0;32m-> 4639\u001b[0m     res \u001b[38;5;241m=\u001b[39m \u001b[38;5;28;43mself\u001b[39;49m\u001b[38;5;241;43m.\u001b[39;49m\u001b[43m_ixs\u001b[49m\u001b[43m(\u001b[49m\u001b[43mloc\u001b[49m\u001b[43m,\u001b[49m\u001b[43m \u001b[49m\u001b[43maxis\u001b[49m\u001b[38;5;241;43m=\u001b[39;49m\u001b[38;5;241;43m1\u001b[39;49m\u001b[43m)\u001b[49m\n\u001b[1;32m   4641\u001b[0m     cache[item] \u001b[38;5;241m=\u001b[39m res\n\u001b[1;32m   4643\u001b[0m     \u001b[38;5;66;03m# for a chain\u001b[39;00m\n",
      "File \u001b[0;32m/Library/Frameworks/Python.framework/Versions/3.13/lib/python3.13/site-packages/pandas/core/frame.py:4010\u001b[0m, in \u001b[0;36mDataFrame._ixs\u001b[0;34m(self, i, axis)\u001b[0m\n\u001b[1;32m   4006\u001b[0m \u001b[38;5;66;03m# icol\u001b[39;00m\n\u001b[1;32m   4007\u001b[0m \u001b[38;5;28;01melse\u001b[39;00m:\n\u001b[1;32m   4008\u001b[0m     label \u001b[38;5;241m=\u001b[39m \u001b[38;5;28mself\u001b[39m\u001b[38;5;241m.\u001b[39mcolumns[i]\n\u001b[0;32m-> 4010\u001b[0m     col_mgr \u001b[38;5;241m=\u001b[39m \u001b[38;5;28;43mself\u001b[39;49m\u001b[38;5;241;43m.\u001b[39;49m\u001b[43m_mgr\u001b[49m\u001b[38;5;241;43m.\u001b[39;49m\u001b[43miget\u001b[49m\u001b[43m(\u001b[49m\u001b[43mi\u001b[49m\u001b[43m)\u001b[49m\n\u001b[1;32m   4011\u001b[0m     result \u001b[38;5;241m=\u001b[39m \u001b[38;5;28mself\u001b[39m\u001b[38;5;241m.\u001b[39m_box_col_values(col_mgr, i)\n\u001b[1;32m   4013\u001b[0m     \u001b[38;5;66;03m# this is a cached value, mark it so\u001b[39;00m\n",
      "File \u001b[0;32m/Library/Frameworks/Python.framework/Versions/3.13/lib/python3.13/site-packages/pandas/core/internals/managers.py:1020\u001b[0m, in \u001b[0;36mBlockManager.iget\u001b[0;34m(self, i, track_ref)\u001b[0m\n\u001b[1;32m   1017\u001b[0m values \u001b[38;5;241m=\u001b[39m block\u001b[38;5;241m.\u001b[39miget(\u001b[38;5;28mself\u001b[39m\u001b[38;5;241m.\u001b[39mblklocs[i])\n\u001b[1;32m   1019\u001b[0m \u001b[38;5;66;03m# shortcut for select a single-dim from a 2-dim BM\u001b[39;00m\n\u001b[0;32m-> 1020\u001b[0m bp \u001b[38;5;241m=\u001b[39m BlockPlacement(\u001b[38;5;28;43mslice\u001b[39;49m\u001b[43m(\u001b[49m\u001b[38;5;241;43m0\u001b[39;49m\u001b[43m,\u001b[49m\u001b[43m \u001b[49m\u001b[38;5;28;43mlen\u001b[39;49m\u001b[43m(\u001b[49m\u001b[43mvalues\u001b[49m\u001b[43m)\u001b[49m\u001b[43m)\u001b[49m)\n\u001b[1;32m   1021\u001b[0m nb \u001b[38;5;241m=\u001b[39m \u001b[38;5;28mtype\u001b[39m(block)(\n\u001b[1;32m   1022\u001b[0m     values, placement\u001b[38;5;241m=\u001b[39mbp, ndim\u001b[38;5;241m=\u001b[39m\u001b[38;5;241m1\u001b[39m, refs\u001b[38;5;241m=\u001b[39mblock\u001b[38;5;241m.\u001b[39mrefs \u001b[38;5;28;01mif\u001b[39;00m track_ref \u001b[38;5;28;01melse\u001b[39;00m \u001b[38;5;28;01mNone\u001b[39;00m\n\u001b[1;32m   1023\u001b[0m )\n\u001b[1;32m   1024\u001b[0m \u001b[38;5;28;01mreturn\u001b[39;00m SingleBlockManager(nb, \u001b[38;5;28mself\u001b[39m\u001b[38;5;241m.\u001b[39maxes[\u001b[38;5;241m1\u001b[39m])\n",
      "\u001b[0;31mKeyboardInterrupt\u001b[0m: "
     ]
    }
   ],
   "source": [
    "from Data import generate_chart as gc\n",
    "\n",
    "year_list = list(range(1994, 1995)) #\n",
    "chart_type = \"bar\"\n",
    "ws = 20\n",
    "freq = \"week\"\n",
    "ma_lags = [ws]\n",
    "vb = True\n",
    "for year in year_list:\n",
    "    print(f\"{ws}D {freq} {chart_type} {year}\")\n",
    "    dgp_obj = gc.GenerateStockData(\n",
    "        \"USA\",\n",
    "        year,\n",
    "        ws,\n",
    "        freq,\n",
    "        chart_freq=1,  # for time-scale I20/R20 to R5/R5, set ws=20 and chart_freq=4\n",
    "        ma_lags=ma_lags,\n",
    "        volume_bar=vb,\n",
    "        need_adjust_price=True,\n",
    "        allow_tqdm=True,\n",
    "        chart_type=chart_type,\n",
    "    )\n",
    "    # generate CNN2D Data\n",
    "    dgp_obj.save_annual_data()\n",
    "    # generate CNN1D Data\n",
    "    dgp_obj.save_annual_ts_data()"
   ]
  },
  {
   "cell_type": "code",
   "execution_count": null,
   "metadata": {},
   "outputs": [],
   "source": []
  }
 ],
 "metadata": {
  "kernelspec": {
   "display_name": "Python 3",
   "language": "python",
   "name": "python3"
  },
  "language_info": {
   "codemirror_mode": {
    "name": "ipython",
    "version": 3
   },
   "file_extension": ".py",
   "mimetype": "text/x-python",
   "name": "python",
   "nbconvert_exporter": "python",
   "pygments_lexer": "ipython3",
   "version": "3.13.1"
  }
 },
 "nbformat": 4,
 "nbformat_minor": 2
}
